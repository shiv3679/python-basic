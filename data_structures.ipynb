{
 "cells": [
  {
   "cell_type": "markdown",
   "metadata": {},
   "source": [
    "## Introduction to Data Structures in Python\n",
    "\n",
    "In the world of programming, data structures are like the containers that store data in an organized manner. Python, renowned for its simplicity and efficiency, offers a variety of built-in data structures that are both flexible and powerful. Understanding these data structures is crucial for effective problem-solving and efficient data management in Python.\n",
    "\n",
    "### Types of Data Structures in Python\n",
    "\n",
    "Python provides several built-in data structures that cater to a wide range of needs. The most commonly used ones include:\n",
    "\n",
    "1. **Lists:** Ordered and mutable collections, lists are versatile and can hold a mixture of different data types.\n",
    "2. **Tuples:** Similar to lists, but immutable. Tuples are perfect for grouping related data.\n",
    "3. **Sets:** Unordered collections of unique elements. They are ideal for membership testing and eliminating duplicate entries.\n",
    "4. **Dictionaries:** Key-value pairs that are unordered, but mutable. Dictionaries are optimized for retrieving data quickly.\n",
    "\n",
    "### Why are Data Structures Important?\n",
    "\n",
    "Data structures are fundamental to programming in Python for several reasons:\n",
    "\n",
    "- **Efficiency:** Different data structures are optimized for different purposes. For example, dictionaries offer fast retrieval, while lists are great for mutable ordered collections.\n",
    "- **Organization:** They provide a way to organize and store data logically, which is essential for writing clear and concise code.\n",
    "- **Flexibility:** Python's data structures can store different types of data, which makes your programs more flexible and dynamic.\n",
    "- **Functionality:** Many Python libraries and frameworks rely on these data structures, making them an indispensable part of Python programming.\n",
    "\n",
    "### The Integral Role of Data Structures in Python\n",
    "\n",
    "Data structures form the backbone of many Python operations. From handling data in web development with frameworks like Django and Flask, to manipulating numerical data in scientific computing with NumPy and pandas, data structures are everywhere. They also play a critical role in algorithm development, enabling efficient data processing, analysis, and visualization.\n",
    "\n",
    "In the following sections, we will explore each of these data structures in detail. You'll learn how to create, manipulate, and apply them in various scenarios through practical examples and exercises. By the end of this module, you'll have a strong foundation in using Python's built-in data structures, empowering you to tackle more complex programming challenges with confidence.\n"
   ]
  },
  {
   "cell_type": "markdown",
   "metadata": {},
   "source": [
    "Understanding Lists"
   ]
  },
  {
   "cell_type": "code",
   "execution_count": 1,
   "metadata": {},
   "outputs": [
    {
     "name": "stdout",
     "output_type": "stream",
     "text": [
      "Fruits List: ['apple', 'banana', 'cherry']\n",
      "After adding an element: ['apple', 'banana', 'cherry', 'orange']\n",
      "First Fruit: apple\n",
      "After removing an element: ['apple', 'cherry', 'orange']\n"
     ]
    }
   ],
   "source": [
    "# Creating a list of fruits\n",
    "fruits = [\"apple\", \"banana\", \"cherry\"]\n",
    "print(\"Fruits List:\", fruits)  # Prints the list of fruits\n",
    "\n",
    "# Adding 'orange' to the list\n",
    "fruits.append(\"orange\")\n",
    "print(\"After adding an element:\", fruits)  # Prints the list after adding 'orange'\n",
    "\n",
    "# Accessing the first element of the list (index 0)\n",
    "print(\"First Fruit:\", fruits[0])  # Prints 'apple'\n",
    "\n",
    "# Removing 'banana' from the list\n",
    "fruits.remove(\"banana\")\n",
    "print(\"After removing an element:\", fruits)  # Prints the list after removing 'banana'\n"
   ]
  },
  {
   "cell_type": "markdown",
   "metadata": {},
   "source": [
    "Exploring Tuples"
   ]
  },
  {
   "cell_type": "code",
   "execution_count": 2,
   "metadata": {},
   "outputs": [
    {
     "name": "stdout",
     "output_type": "stream",
     "text": [
      "Tuple: ('apple', 'banana', 'cherry')\n",
      "First element: apple\n"
     ]
    }
   ],
   "source": [
    "# Creating a tuple of fruits\n",
    "my_tuple = (\"apple\", \"banana\", \"cherry\")\n",
    "print(\"Tuple:\", my_tuple)  # Prints the tuple\n",
    "\n",
    "# Accessing the first element of the tuple (index 0)\n",
    "print(\"First element:\", my_tuple[0])  # Prints 'apple'\n",
    "\n",
    "# Note: Tuples are immutable, so you can't change elements once it's created\n",
    "# Uncommenting the following line would cause an error\n",
    "# my_tuple[1] = \"orange\"\n"
   ]
  },
  {
   "cell_type": "markdown",
   "metadata": {},
   "source": [
    "Working with sets"
   ]
  },
  {
   "cell_type": "code",
   "execution_count": 3,
   "metadata": {},
   "outputs": [
    {
     "name": "stdout",
     "output_type": "stream",
     "text": [
      "Set: {'cherry', 'apple', 'banana'}\n",
      "After adding an element: {'cherry', 'apple', 'banana', 'orange'}\n",
      "After removing an element: {'cherry', 'apple', 'orange'}\n"
     ]
    }
   ],
   "source": [
    "# Creating a set of fruits\n",
    "my_set = {\"apple\", \"banana\", \"cherry\"}\n",
    "print(\"Set:\", my_set)  # Prints the set of fruits\n",
    "\n",
    "# Adding 'orange' to the set\n",
    "my_set.add(\"orange\")\n",
    "print(\"After adding an element:\", my_set)  # Prints the set after adding 'orange'\n",
    "\n",
    "# Removing 'banana' from the set\n",
    "my_set.remove(\"banana\")\n",
    "print(\"After removing an element:\", my_set)  # Prints the set after removing 'banana'\n"
   ]
  },
  {
   "cell_type": "markdown",
   "metadata": {},
   "source": [
    "Utilising dictionaries"
   ]
  },
  {
   "cell_type": "code",
   "execution_count": 4,
   "metadata": {},
   "outputs": [
    {
     "name": "stdout",
     "output_type": "stream",
     "text": [
      "Person Dictionary: {'name': 'John', 'age': 30}\n",
      "After adding a new key-value pair: {'name': 'John', 'age': 30, 'city': 'New York'}\n",
      "Name: John\n",
      "After removing a key-value pair: {'name': 'John', 'city': 'New York'}\n"
     ]
    }
   ],
   "source": [
    "# Creating a dictionary for a person\n",
    "person = {\"name\": \"John\", \"age\": 30}\n",
    "print(\"Person Dictionary:\", person)  # Prints the dictionary\n",
    "\n",
    "# Adding a new key-value pair 'city': 'New York'\n",
    "person[\"city\"] = \"New York\"\n",
    "print(\"After adding a new key-value pair:\", person)  # Prints the dictionary after addition\n",
    "\n",
    "# Accessing the value associated with key 'name'\n",
    "print(\"Name:\", person[\"name\"])  # Prints 'John'\n",
    "\n",
    "# Removing the key-value pair with key 'age'\n",
    "del person[\"age\"]\n",
    "print(\"After removing a key-value pair:\", person)  # Prints the dictionary after deletion\n"
   ]
  },
  {
   "cell_type": "markdown",
   "metadata": {},
   "source": [
    "Filtering a list"
   ]
  },
  {
   "cell_type": "code",
   "execution_count": 5,
   "metadata": {},
   "outputs": [
    {
     "name": "stdout",
     "output_type": "stream",
     "text": [
      "Even Numbers: [2, 4, 6, 8, 10]\n"
     ]
    }
   ],
   "source": [
    "# List of numbers from 1 to 10\n",
    "numbers = [1, 2, 3, 4, 5, 6, 7, 8, 9, 10]\n",
    "\n",
    "# Using list comprehension to filter out even numbers\n",
    "# The 'if num % 2 == 0' condition checks if a number is even\n",
    "even_numbers = [num for num in numbers if num % 2 == 0]\n",
    "\n",
    "print(\"Even Numbers:\", even_numbers)\n",
    "# Output: Even Numbers: [2, 4, 6, 8, 10]\n",
    "# This prints only the even numbers from the original list\n"
   ]
  },
  {
   "cell_type": "markdown",
   "metadata": {},
   "source": [
    "### Mini Project: Word frequency counter"
   ]
  },
  {
   "cell_type": "code",
   "execution_count": 6,
   "metadata": {},
   "outputs": [
    {
     "name": "stdout",
     "output_type": "stream",
     "text": [
      "{'apple': 2, 'banana': 2, 'strawberry': 1, 'lemon': 1}\n"
     ]
    }
   ],
   "source": [
    "# A sample text string\n",
    "text = \"apple banana apple strawberry banana lemon\"\n",
    "\n",
    "# Splitting the text into individual words\n",
    "words = text.split()  # Creates a list of words\n",
    "\n",
    "# Creating an empty dictionary to store word frequency\n",
    "word_count = {}\n",
    "\n",
    "# Iterating over each word in the list\n",
    "for word in words:\n",
    "    if word in word_count:\n",
    "        # If the word is already in the dictionary, increment its count\n",
    "        word_count[word] += 1\n",
    "    else:\n",
    "        # If the word is not in the dictionary, add it with count 1\n",
    "        word_count[word] = 1\n",
    "\n",
    "print(word_count)\n",
    "# Output: {'apple': 2, 'banana': 2, 'strawberry': 1, 'lemon': 1}\n",
    "# This prints the frequency of each word in the text\n"
   ]
  },
  {
   "cell_type": "markdown",
   "metadata": {},
   "source": [
    "## Conclusion: Mastering Data Structures in Python\n",
    "\n",
    "As we wrap up our exploration of Python's data structures, let's reflect on the key concepts and skills we've acquired. This journey has taken us through the core structures that Python offers, highlighting their unique characteristics and their pivotal role in effective programming.\n",
    "\n",
    "### Key Learnings\n",
    "\n",
    "- **Diversity of Data Structures:** We've seen the versatility of Python's data structures – lists, tuples, sets, and dictionaries – and how each serves a specific purpose.\n",
    "- **Lists and Tuples:** These structures are excellent for storing ordered collections, with the primary difference being mutability for lists and immutability for tuples.\n",
    "- **Sets:** We explored sets, which are ideal for storing unique elements and performing operations like unions and intersections.\n",
    "- **Dictionaries:** The power of dictionaries lies in their key-value pair structure, making data retrieval efficient and straightforward.\n",
    "- **Practical Applications:** Through various examples, we've applied these data structures in real-world scenarios, enhancing our ability to solve problems and manage data effectively.\n",
    "\n",
    "### The Significance of Data Structures in Python\n",
    "\n",
    "Data structures are not just theoretical concepts; they are tools that empower programmers to write more efficient, readable, and maintainable code. They are fundamental in various fields, from web development to data science, and are crucial for:\n",
    "\n",
    "- **Organizing Data:** Structuring data logically and efficiently.\n",
    "- **Improving Performance:** Optimizing operations like data retrieval and manipulation.\n",
    "- **Enhancing Problem-solving Skills:** Providing a foundation for solving complex programming challenges.\n",
    "\n",
    "### Continuing Your Journey with Python\n",
    "\n",
    "The journey of learning Python is continuous and ever-evolving. Here are some steps for further growth:\n",
    "\n",
    "- **Experiment with Real Data:** Apply these data structures to handle real datasets, enhancing your data manipulation skills.\n",
    "- **Combine with Other Python Concepts:** Integrate data structures with concepts like loops, conditional statements, and functions.\n",
    "- **Explore Advanced Topics:** Delve into more complex data structures and algorithms as your next step.\n",
    "\n",
    "### Additional Resources\n",
    "\n",
    "To further your understanding, here are some excellent resources:\n",
    "\n",
    "- [Python Official Documentation](https://docs.python.org/3/tutorial/datastructures.html)\n",
    "- [Real Python Tutorials](https://realpython.com/)\n",
    "- Interactive platforms like [HackerRank](https://www.hackerrank.com/domains/tutorials/python) and [LeetCode](https://leetcode.com/problemset/all/)\n",
    "\n",
    "Remember, the key to mastery is practice. Continue exploring, experimenting, and challenging yourself with new problems. Happy coding!\n"
   ]
  },
  {
   "cell_type": "code",
   "execution_count": null,
   "metadata": {},
   "outputs": [],
   "source": []
  }
 ],
 "metadata": {
  "kernelspec": {
   "display_name": "base",
   "language": "python",
   "name": "python3"
  },
  "language_info": {
   "codemirror_mode": {
    "name": "ipython",
    "version": 3
   },
   "file_extension": ".py",
   "mimetype": "text/x-python",
   "name": "python",
   "nbconvert_exporter": "python",
   "pygments_lexer": "ipython3",
   "version": "3.11.5"
  },
  "orig_nbformat": 4
 },
 "nbformat": 4,
 "nbformat_minor": 2
}
