{
 "cells": [
  {
   "cell_type": "markdown",
   "metadata": {},
   "source": [
    "Using Python in Biology : BioPython"
   ]
  },
  {
   "cell_type": "markdown",
   "metadata": {},
   "source": [
    "## Introduction to Python Modules and Libraries\n",
    "\n",
    "Python, known for its simplicity and power, is enhanced by a rich ecosystem of modules and libraries. These tools extend Python's capabilities far beyond its core functionality, enabling programmers to perform a wide range of tasks more efficiently and effectively.\n",
    "\n",
    "### What are Python Modules and Libraries?\n",
    "\n",
    "- **Python Modules:** A module is a file containing Python code, usually defining functions, classes, or variables. These modules can be imported into other Python scripts to reuse code.\n",
    "- **Python Libraries:** A library is a collection of modules. It's an extensive toolkit of pre-written code that helps in performing specific tasks.\n",
    "\n",
    "### The Power of Python Modules and Libraries\n",
    "\n",
    "Modules and libraries are fundamental in Python programming due to several reasons:\n",
    "\n",
    "1. **Extensibility:** Python's functionality can be extended with modules and libraries, allowing you to perform tasks that aren't built into the language.\n",
    "2. **Reusability:** They promote code reusability. Instead of writing code from scratch, you can use pre-built modules and libraries.\n",
    "3. **Community and Support:** Many Python libraries are open-source and supported by a vast community, ensuring continual improvement and support.\n",
    "4. **Diverse Applications:** Python's libraries cater to a wide range of applications, from web development with Django and Flask to data analysis with Pandas and NumPy, machine learning with TensorFlow and scikit-learn, and more.\n",
    "\n",
    "### How Can Different Modules and Libraries Be Useful?\n",
    "\n",
    "Depending on your field or interest, Python has a library or module for almost everything:\n",
    "\n",
    "- **For Web Developers:** Libraries like Django and Flask make web application development more straightforward.\n",
    "- **For Data Scientists and Analysts:** Libraries like Pandas, NumPy, and Matplotlib simplify data manipulation and visualization.\n",
    "- **For Machine Learning Practitioners:** TensorFlow, PyTorch, and scikit-learn provide tools for building and training complex machine learning models.\n",
    "- **For Biologists and Chemists:** Biopython and RDKit are specialized libraries for bioinformatics and cheminformatics.\n",
    "- **For Finance and Accounting Professionals:** Modules like pandas-datareader and libraries like QuantLib are tailored for financial analysis and modeling.\n",
    "\n",
    "\n",
    "\n"
   ]
  },
  {
   "cell_type": "code",
   "execution_count": null,
   "metadata": {},
   "outputs": [],
   "source": [
    "%pip install bio"
   ]
  },
  {
   "cell_type": "code",
   "execution_count": null,
   "metadata": {},
   "outputs": [],
   "source": [
    "from Bio.Seq import Seq\n",
    "\n",
    "# Define a DNA sequence\n",
    "dna_sequence = Seq(\"ATGGCCATTGTAATGGGCCGCTGAAAGGGTGCCCGATAG\")\n",
    "\n",
    "# Finding the complement of the DNA sequence\n",
    "complement_sequence = dna_sequence.complement()\n",
    "print(f\"Complement: {complement_sequence}\")\n",
    "\n",
    "# Transcribing the DNA to RNA\n",
    "rna_sequence = dna_sequence.transcribe()\n",
    "print(f\"RNA: {rna_sequence}\")\n",
    "\n",
    "# Translating the RNA to a protein sequence\n",
    "protein_sequence = rna_sequence.translate()\n",
    "print(f\"Protein: {protein_sequence}\")\n",
    "\n",
    "# This sequence of operations provides insights into the fundamental processes of molecular biology.\n"
   ]
  },
  {
   "cell_type": "markdown",
   "metadata": {},
   "source": [
    "GST Calculation and visualisation"
   ]
  },
  {
   "cell_type": "code",
   "execution_count": null,
   "metadata": {},
   "outputs": [],
   "source": [
    "%pip install pandas matplotlib"
   ]
  },
  {
   "cell_type": "code",
   "execution_count": null,
   "metadata": {},
   "outputs": [],
   "source": [
    "import pandas as pd\n",
    "import matplotlib.pyplot as plt\n",
    "\n",
    "# Sample data: Product prices and GST rates\n",
    "data = {\n",
    "    \"Product\": [\"Product A\", \"Product B\", \"Product C\", \"Product D\"],\n",
    "    \"Price\": [250, 150, 350, 450],\n",
    "    \"GST Rate (%)\": [18, 5, 12, 28]\n",
    "}\n",
    "\n",
    "df = pd.DataFrame(data)\n",
    "\n",
    "# Function to calculate price after GST\n",
    "def calculate_gst(price, rate):\n",
    "    return price + (price * rate / 100)\n",
    "\n",
    "# Applying the function to each row\n",
    "df[\"Price After GST\"] = df.apply(lambda row: calculate_gst(row[\"Price\"], row[\"GST Rate (%)\"]), axis=1)\n",
    "\n",
    "# Plotting the data\n",
    "plt.bar(df[\"Product\"], df[\"Price\"], label=\"Price Before GST\")\n",
    "plt.bar(df[\"Product\"], df[\"Price After GST\"], label=\"Price After GST\", alpha=0.7)\n",
    "plt.xlabel(\"Product\")\n",
    "plt.ylabel(\"Price ($)\")\n",
    "plt.title(\"Product Prices: Before and After GST\")\n",
    "plt.legend()\n",
    "plt.show()\n",
    "\n",
    "# This code calculates the price after adding GST and visualizes the comparison between prices before and after GST.\n"
   ]
  },
  {
   "cell_type": "markdown",
   "metadata": {},
   "source": [
    "### Conclusion\n",
    "\n",
    "In the modern world of programming, being proficient in Python also means being adept in its various libraries and modules. These tools not only simplify complex tasks but also open doors to new possibilities in programming and data analysis.\n",
    "\n",
    "### Exploring Further\n",
    "\n",
    "To make the most of Python's vast ecosystem, consider exploring its official documentation and various third-party libraries. Websites like PyPI (Python Package Index) are excellent resources for discovering new Python libraries. Additionally, platforms like GitHub provide access to a plethora of open-source projects where these libraries are applied in real-world scenarios."
   ]
  },
  {
   "cell_type": "code",
   "execution_count": null,
   "metadata": {},
   "outputs": [],
   "source": []
  }
 ],
 "metadata": {
  "kernelspec": {
   "display_name": "base",
   "language": "python",
   "name": "python3"
  },
  "language_info": {
   "codemirror_mode": {
    "name": "ipython",
    "version": 3
   },
   "file_extension": ".py",
   "mimetype": "text/x-python",
   "name": "python",
   "nbconvert_exporter": "python",
   "pygments_lexer": "ipython3",
   "version": "3.11.5"
  },
  "orig_nbformat": 4
 },
 "nbformat": 4,
 "nbformat_minor": 2
}
