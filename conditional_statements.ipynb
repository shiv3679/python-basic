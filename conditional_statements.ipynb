{
 "cells": [
  {
   "cell_type": "markdown",
   "metadata": {},
   "source": [
    "## Understanding Conditional Operators in Python\n",
    "\n",
    "Conditional operators are the heart of decision-making in Python. They allow a program to execute different code paths based on certain conditions. Let's delve into their significance and how they can be effectively used in Python programming.\n",
    "\n",
    "### What are Conditional Operators?\n",
    "\n",
    "Conditional operators are used to evaluate a condition, returning `True` or `False`. These operators form the basis of conditional statements like `if`, `elif`, and `else`. The most common conditional operators in Python are:\n",
    "\n",
    "- `==`: Equal to\n",
    "- `!=`: Not equal to\n",
    "- `>`: Greater than\n",
    "- `<`: Less than\n",
    "- `>=`: Greater than or equal to\n",
    "- `<=`: Less than or equal to\n",
    "\n",
    "### The Usefulness of Conditional Operators\n",
    "\n",
    "Conditional operators are crucial in programming for several reasons:\n",
    "\n",
    "1. **Decision Making:** They allow a program to decide whether to execute a certain block of code based on a condition.\n",
    "2. **Flow Control:** By using these operators in `if-elif-else` statements, you can direct the flow of your program, making it dynamic and responsive.\n",
    "3. **Data Filtering:** They are essential in data processing tasks, where you need to filter or process data based on certain criteria.\n",
    "\n",
    "### Examples of Conditional Operators\n",
    "\n",
    "```python\n",
    "# Check if two numbers are equal\n",
    "number1 = 10\n",
    "number2 = 20\n",
    "print(number1 == number2)  # Output: False\n",
    "\n",
    "# Check if a number is greater than another\n",
    "print(number1 > number2)  # Output: False\n",
    "\n",
    "# Check if a number is less than or equal to another\n",
    "print(number1 <= number2)  # Output: True\n"
   ]
  },
  {
   "cell_type": "markdown",
   "metadata": {},
   "source": [
    "Basic structure of an `if` statement"
   ]
  },
  {
   "cell_type": "code",
   "execution_count": null,
   "metadata": {},
   "outputs": [],
   "source": [
    "# Example of a simple if statement\n",
    "number = 10\n",
    "if number > 5:\n",
    "    print(\"Number is greater than 5\")\n",
    "\n",
    "# This block of code checks if 'number' is greater than 5. If true, it prints a message.\n"
   ]
  },
  {
   "cell_type": "markdown",
   "metadata": {},
   "source": [
    "Adding an `else` clause"
   ]
  },
  {
   "cell_type": "code",
   "execution_count": null,
   "metadata": {},
   "outputs": [],
   "source": [
    "# Example of if-else statement\n",
    "number = 3\n",
    "if number > 5:\n",
    "    print(\"Number is greater than 5\")\n",
    "else:\n",
    "    print(\"Number is less than or equal to 5\")\n",
    "\n",
    "# This code demonstrates how 'else' works. If the condition in 'if' is False, the 'else' block executes.\n"
   ]
  },
  {
   "cell_type": "markdown",
   "metadata": {},
   "source": [
    "Using `elif` for multiple statements"
   ]
  },
  {
   "cell_type": "code",
   "execution_count": null,
   "metadata": {},
   "outputs": [],
   "source": [
    "# Example of if-elif-else statement\n",
    "age = 20\n",
    "if age < 18:\n",
    "    print(\"Minor\")\n",
    "elif age >= 18 and age < 60:\n",
    "    print(\"Adult\")\n",
    "else:\n",
    "    print(\"Senior\")\n",
    "\n",
    "# This code uses 'elif' to handle multiple conditions, checking if 'age' falls into certain ranges.\n"
   ]
  },
  {
   "cell_type": "markdown",
   "metadata": {},
   "source": [
    "### 1. Comparison Operators"
   ]
  },
  {
   "cell_type": "code",
   "execution_count": null,
   "metadata": {},
   "outputs": [],
   "source": [
    "# Examples of comparison operators\n",
    "a = 10\n",
    "b = 20\n",
    "\n",
    "print(a < b)  # True because 10 is less than 20\n",
    "print(a > b)  # False because 10 is not greater than 20\n",
    "print(a == b) # False because 10 is not equal to 20\n",
    "print(a != b) # True because 10 is not equal to 20\n",
    "print(a <= 10) # True because 10 is less than or equal to 10\n",
    "print(b >= 20) # True because 20 is greater than or equal to 20\n"
   ]
  },
  {
   "cell_type": "markdown",
   "metadata": {},
   "source": [
    "### 2. Logical Operators"
   ]
  },
  {
   "cell_type": "code",
   "execution_count": null,
   "metadata": {},
   "outputs": [],
   "source": [
    "# Examples of logical operators\n",
    "x = 7\n",
    "\n",
    "# 'and' operator\n",
    "print(x > 5 and x < 10) # True because x is greater than 5 AND less than 10\n",
    "\n",
    "# 'or' operator\n",
    "print(x < 5 or x < 10) # True because one of the conditions is true\n",
    "\n",
    "# 'not' operator\n",
    "print(not(x > 5)) # False because x is indeed greater than 5\n"
   ]
  },
  {
   "cell_type": "markdown",
   "metadata": {},
   "source": [
    "### Mini Project"
   ]
  },
  {
   "cell_type": "markdown",
   "metadata": {},
   "source": [
    "Grading System"
   ]
  },
  {
   "cell_type": "code",
   "execution_count": null,
   "metadata": {},
   "outputs": [],
   "source": [
    "# Example: Grading system\n",
    "score = 85\n",
    "if score >= 90:\n",
    "    grade = 'A'\n",
    "elif score >= 80:\n",
    "    grade = 'B'\n",
    "elif score >= 70:\n",
    "    grade = 'C'\n",
    "elif score >= 60:\n",
    "    grade = 'D'\n",
    "else:\n",
    "    grade = 'F'\n",
    "print(f\"Your grade is: {grade}\")\n",
    "\n",
    "# This code assigns a letter grade based on a numerical score.\n"
   ]
  },
  {
   "cell_type": "markdown",
   "metadata": {},
   "source": [
    "User Access levels"
   ]
  },
  {
   "cell_type": "code",
   "execution_count": null,
   "metadata": {},
   "outputs": [],
   "source": [
    "# Exercise: Write a program to check user access levels\n",
    "# The user access level is determined by the user role\n",
    "\n",
    "user_role = \"admin\"\n",
    "\n",
    "if user_role == \"admin\":\n",
    "    access_level = \"Full Access\"\n",
    "elif user_role == \"editor\":\n",
    "    access_level = \"Limited Access\"\n",
    "else:\n",
    "    access_level = \"No Access\"\n",
    "\n",
    "print(f\"User with role '{user_role}' has '{access_level}'.\")\n"
   ]
  },
  {
   "cell_type": "markdown",
   "metadata": {},
   "source": [
    "## Conclusion: Mastering Conditional Statements in Python\n",
    "\n",
    "In this notebook, we've explored the essential concept of conditional statements in Python, a cornerstone for decision-making in programming.\n",
    "\n",
    "### Key Takeaways\n",
    "\n",
    "- **Understanding `if`, `elif`, and `else` Statements:** We've seen how these statements control the flow of a program based on certain conditions.\n",
    "- **Importance of Indentation:** Python relies heavily on indentation to define scopes, making the readability and structure of your code crucial.\n",
    "- **Utilizing Comparison and Logical Operators:** These operators (`<`, `>`, `==`, `!=`, `and`, `or`, `not`) play a pivotal role in evaluating conditions within these statements.\n",
    "- **Real-world Applications:** Through examples and exercises, we've applied these concepts in scenarios that resemble real-world problems, like a grading system and user access levels.\n",
    "\n",
    "### Further Practice and Resources\n",
    "\n",
    "To solidify your understanding of conditional statements, here are some resources and suggestions for further learning:\n",
    "\n",
    "- **Practice with Mini-Projects:** Try to implement conditional logic in small projects, like a simple calculator or a basic game.\n",
    "- **Online Python Communities:** Engage with communities on platforms like [Stack Overflow](https://stackoverflow.com/) and [Reddit](https://www.reddit.com/r/learnpython/) to discuss and learn from others’ experiences.\n",
    "- **Python Documentation:** For an in-depth understanding, refer to the [official Python documentation](https://docs.python.org/3/tutorial/controlflow.html) on control flow tools.\n",
    "- **Interactive Learning Platforms:** Websites like [Codecademy](https://www.codecademy.com/learn/learn-python-3) and [Kaggle](https://www.kaggle.com/learn/python) offer interactive exercises and projects to enhance your skills.\n",
    "\n",
    "Remember, the key to mastering Python is consistent practice and application. Don't hesitate to experiment with code and tackle various problems using conditional statements. Happy coding, and enjoy your journey in Python programming!\n"
   ]
  },
  {
   "cell_type": "markdown",
   "metadata": {},
   "source": []
  }
 ],
 "metadata": {
  "kernelspec": {
   "display_name": "base",
   "language": "python",
   "name": "python3"
  },
  "language_info": {
   "codemirror_mode": {
    "name": "ipython",
    "version": 3
   },
   "file_extension": ".py",
   "mimetype": "text/x-python",
   "name": "python",
   "nbconvert_exporter": "python",
   "pygments_lexer": "ipython3",
   "version": "3.11.5"
  },
  "orig_nbformat": 4
 },
 "nbformat": 4,
 "nbformat_minor": 2
}
